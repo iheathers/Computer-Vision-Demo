{
 "cells": [
  {
   "cell_type": "code",
   "execution_count": 5,
   "id": "4c1e905c",
   "metadata": {},
   "outputs": [
    {
     "name": "stdout",
     "output_type": "stream",
     "text": [
      "Left Button Clicked\n",
      "Right button Clicked\n",
      "Right button Clicked\n",
      "Right button Clicked\n",
      "Left Button Clicked\n",
      "Left Button Clicked\n",
      "Right button Clicked\n",
      "Left Button Clicked\n",
      "Left Button Clicked\n"
     ]
    }
   ],
   "source": [
    "import cv2\n",
    "import numpy as np\n",
    "\n",
    "\n",
    "# Callback function \n",
    "\n",
    "def draw_circle(event, x, y, flags, param):\n",
    "    \n",
    "    if event == cv2.EVENT_LBUTTONDOWN:        \n",
    "        print(\"Left Button Clicked\")        \n",
    "        cv2.circle(image, center=(x,y), radius=20, thickness=2, color=(255, 0, 0))\n",
    "        \n",
    "    if event == cv2.EVENT_RBUTTONDOWN:\n",
    "        print(\"Right button Clicked\")\n",
    "        cv2.circle(image, center=(x,y), radius = 20, thickness = 2, color=(0, 0, 255))\n",
    "        \n",
    "    \n",
    "cv2.namedWindow('Drawing_image_with_mouse')\n",
    "cv2.setMouseCallback('Drawing_image_with_mouse', draw_circle)\n",
    "\n",
    "# Display image\n",
    "\n",
    "image = np.zeros(shape=(1024, 1024, 3))\n",
    "\n",
    "while True:\n",
    "    \n",
    "    cv2.imshow(\"Drawing_image_with_mouse\", image )\n",
    "    \n",
    "    if cv2.waitKey(20) & 0xFF == 27:\n",
    "        break\n",
    "\n",
    "cv2.destroyAllWindows()\n"
   ]
  },
  {
   "cell_type": "code",
   "execution_count": null,
   "id": "4a9b4555",
   "metadata": {},
   "outputs": [],
   "source": []
  }
 ],
 "metadata": {
  "kernelspec": {
   "display_name": "Python 3",
   "language": "python",
   "name": "python3"
  },
  "language_info": {
   "codemirror_mode": {
    "name": "ipython",
    "version": 3
   },
   "file_extension": ".py",
   "mimetype": "text/x-python",
   "name": "python",
   "nbconvert_exporter": "python",
   "pygments_lexer": "ipython3",
   "version": "3.6.6"
  }
 },
 "nbformat": 4,
 "nbformat_minor": 5
}
